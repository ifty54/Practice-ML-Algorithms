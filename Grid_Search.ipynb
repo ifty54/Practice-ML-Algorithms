{
  "nbformat": 4,
  "nbformat_minor": 0,
  "metadata": {
    "colab": {
      "provenance": [],
      "authorship_tag": "ABX9TyNQWLPSFVvbs4JXerHy+W4W",
      "include_colab_link": true
    },
    "kernelspec": {
      "name": "python3",
      "display_name": "Python 3"
    },
    "language_info": {
      "name": "python"
    }
  },
  "cells": [
    {
      "cell_type": "markdown",
      "metadata": {
        "id": "view-in-github",
        "colab_type": "text"
      },
      "source": [
        "<a href=\"https://colab.research.google.com/github/ifty54/ifty54/blob/main/Grid_Search.ipynb\" target=\"_parent\"><img src=\"https://colab.research.google.com/assets/colab-badge.svg\" alt=\"Open In Colab\"/></a>"
      ]
    },
    
    {
      "cell_type": "code",
      "execution_count": null,
      "metadata": {
        "colab": {
          "base_uri": "https://localhost:8080/"
        },
        "id": "TI4JjltORVH7",
        "outputId": "85060937-c721-49d7-8c65-4284d3a1f0ac"
      },
      "outputs": [
        {
          "output_type": "stream",
          "name": "stdout",
          "text": [
            "Looking in indexes: https://pypi.org/simple, https://us-python.pkg.dev/colab-wheels/public/simple/\n",
            "Collecting uvicorn\n",
            "  Downloading uvicorn-0.21.1-py3-none-any.whl (57 kB)\n",
            "\u001b[2K     \u001b[90m━━━━━━━━━━━━━━━━━━━━━━━━━━━━━━━━━━━━━━━━\u001b[0m \u001b[32m57.8/57.8 KB\u001b[0m \u001b[31m3.4 MB/s\u001b[0m eta \u001b[36m0:00:00\u001b[0m\n",
            "\u001b[?25hCollecting h11>=0.8\n",
            "  Downloading h11-0.14.0-py3-none-any.whl (58 kB)\n",
            "\u001b[2K     \u001b[90m━━━━━━━━━━━━━━━━━━━━━━━━━━━━━━━━━━━━━━━━\u001b[0m \u001b[32m58.3/58.3 KB\u001b[0m \u001b[31m7.7 MB/s\u001b[0m eta \u001b[36m0:00:00\u001b[0m\n",
            "\u001b[?25hRequirement already satisfied: click>=7.0 in /usr/local/lib/python3.9/dist-packages (from uvicorn) (8.1.3)\n",
            "Installing collected packages: h11, uvicorn\n",
            "Successfully installed h11-0.14.0 uvicorn-0.21.1\n"
          ]
        }
      ],
      "source": [
        "pip install uvicorn"
      ]
    },
    {
      "cell_type": "code",
      "source": [
        "from sklearn import datasets\n",
        "from sklearn.linear_model import LogisticRegression\n",
        "\n",
        "iris = datasets.load_iris()\n",
        "\n",
        "X = iris['data']\n",
        "y = iris['target']\n",
        "\n",
        "logit = LogisticRegression(max_iter = 10000)\n",
        "\n",
        "print(logit.fit(X,y))\n",
        "\n",
        "print(logit.score(X,y))\n"
      ],
      "metadata": {
        "id": "yEnXKY_ARn-h"
      },
      "execution_count": null,
      "outputs": []
    },
    {
      "cell_type": "code",
      "source": [
        "from sklearn import datasets\n",
        "from sklearn.linear_model import LogisticRegression\n",
        "\n",
        "iris = datasets.load_iris()\n",
        "\n",
        "X = iris['data']\n",
        "y = iris['target']\n",
        "\n",
        "logit = LogisticRegression(max_iter = 10000)\n",
        "\n",
        "C = [0.25, 0.5, 0.75, 1, 1.25, 1.5, 1.75, 2]\n",
        "\n",
        "scores = []\n",
        "\n",
        "for choice in C:\n",
        "  logit.set_params(C=choice)\n",
        "  logit.fit(X, y)\n",
        "  scores.append(logit.score(X, y))\n",
        "\n",
        "print(scores)"
      ],
      "metadata": {
        "id": "4av_5PZTi1Og"
      },
      "execution_count": null,
      "outputs": []
    }
  ]
}
